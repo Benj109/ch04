{
 "cells": [
  {
   "cell_type": "code",
   "execution_count": 11,
   "metadata": {},
   "outputs": [
    {
     "name": "stdout",
     "output_type": "stream",
     "text": [
      "59 11 54 74 7 22 76 90 93 71 \n",
      "The total is          3\n"
     ]
    }
   ],
   "source": [
    "import random\n",
    "i = 0; cnt = 0\n",
    "while (i < 10):\n",
    "    rdnum = random.randint(0,100)\n",
    "    print(rdnum, end = ' ')\n",
    "    if (rdnum >=0) and (rdnum <= 50):\n",
    "        cnt += 1\n",
    "    i += 1\n",
    "print(f'\\nThe total is {cnt:10d}')\n",
    "\n"
   ]
  },
  {
   "cell_type": "code",
   "execution_count": null,
   "metadata": {},
   "outputs": [],
   "source": []
  }
 ],
 "metadata": {
  "kernelspec": {
   "display_name": "base",
   "language": "python",
   "name": "python3"
  },
  "language_info": {
   "codemirror_mode": {
    "name": "ipython",
    "version": 3
   },
   "file_extension": ".py",
   "mimetype": "text/x-python",
   "name": "python",
   "nbconvert_exporter": "python",
   "pygments_lexer": "ipython3",
   "version": "3.12.4"
  }
 },
 "nbformat": 4,
 "nbformat_minor": 2
}
